{
 "cells": [
  {
   "cell_type": "code",
   "execution_count": 1,
   "id": "4b720372",
   "metadata": {},
   "outputs": [
    {
     "name": "stdout",
     "output_type": "stream",
     "text": [
      "Requirement already satisfied: pip in /home/fonsi8xhomelab/anaconda3/lib/python3.11/site-packages (24.2)\n",
      "Note: you may need to restart the kernel to use updated packages.\n"
     ]
    }
   ],
   "source": [
    "pip install --upgrade pip"
   ]
  },
  {
   "cell_type": "code",
   "execution_count": 2,
   "id": "3d176d9a",
   "metadata": {},
   "outputs": [
    {
     "name": "stdout",
     "output_type": "stream",
     "text": [
      "Note: you may need to restart the kernel to use updated packages.\n"
     ]
    }
   ],
   "source": [
    "pip install tensorflow numpy matplotlib opencv-python --quiet"
   ]
  },
  {
   "cell_type": "markdown",
   "id": "a04c8aa1",
   "metadata": {},
   "source": [
    "# Diseases Detection in Plants (Case of Blackgram Plant Leaf)"
   ]
  },
  {
   "cell_type": "markdown",
   "id": "b2350211",
   "metadata": {},
   "source": [
    "### Import Libraries "
   ]
  },
  {
   "cell_type": "code",
   "execution_count": 1,
   "id": "942305ad",
   "metadata": {},
   "outputs": [
    {
     "name": "stderr",
     "output_type": "stream",
     "text": [
      "2024-08-22 09:18:54.896007: I external/local_tsl/tsl/cuda/cudart_stub.cc:31] Could not find cuda drivers on your machine, GPU will not be used.\n",
      "2024-08-22 09:18:56.176333: E external/local_xla/xla/stream_executor/cuda/cuda_dnn.cc:9261] Unable to register cuDNN factory: Attempting to register factory for plugin cuDNN when one has already been registered\n",
      "2024-08-22 09:18:56.176495: E external/local_xla/xla/stream_executor/cuda/cuda_fft.cc:607] Unable to register cuFFT factory: Attempting to register factory for plugin cuFFT when one has already been registered\n",
      "2024-08-22 09:18:56.583236: E external/local_xla/xla/stream_executor/cuda/cuda_blas.cc:1515] Unable to register cuBLAS factory: Attempting to register factory for plugin cuBLAS when one has already been registered\n",
      "2024-08-22 09:18:57.471934: I external/local_tsl/tsl/cuda/cudart_stub.cc:31] Could not find cuda drivers on your machine, GPU will not be used.\n",
      "2024-08-22 09:19:01.229945: W tensorflow/compiler/tf2tensorrt/utils/py_utils.cc:38] TF-TRT Warning: Could not find TensorRT\n"
     ]
    }
   ],
   "source": [
    "import tensorflow as tf\n",
    "from tensorflow.keras import layers, models\n",
    "import numpy as np\n",
    "import matplotlib.pyplot as plt\n",
    "import os\n",
    "from sklearn.model_selection import train_test_split\n",
    "from tensorflow.keras.preprocessing.image import ImageDataGenerator"
   ]
  },
  {
   "cell_type": "markdown",
   "id": "c4eb93aa",
   "metadata": {},
   "source": [
    "### Loading and Preparation of the Dataset "
   ]
  },
  {
   "cell_type": "code",
   "execution_count": 4,
   "id": "04f5d19c",
   "metadata": {},
   "outputs": [],
   "source": [
    "# Setting the path to our dataset\n",
    "data_dir = 'BPLD_Dataset'\n",
    "categories = ['Anthracnose_230', 'Healthy_220', 'Leaf_Crinckle_150', 'Powdery_Mildew_180', 'Yellow_Mosaic_220']"
   ]
  },
  {
   "cell_type": "code",
   "execution_count": 5,
   "id": "3f0a89cb",
   "metadata": {},
   "outputs": [],
   "source": [
    "# Initialize lists to hold images and labels\n",
    "images = []\n",
    "labels = []"
   ]
  },
  {
   "cell_type": "code",
   "execution_count": 6,
   "id": "ca8e471f",
   "metadata": {},
   "outputs": [],
   "source": [
    "# Loading images and labels\n",
    "for category in categories:\n",
    "    path = os.path.join(data_dir, category)\n",
    "    label = categories.index(category)  # Assign numerical labels\n",
    "    for img in os.listdir(path):\n",
    "        img_path = os.path.join(path, img)\n",
    "        img_array = tf.keras.preprocessing.image.load_img(img_path, target_size=(128, 128))\n",
    "        img_array = tf.keras.preprocessing.image.img_to_array(img_array)\n",
    "        images.append(img_array)\n",
    "        labels.append(label)"
   ]
  },
  {
   "cell_type": "code",
   "execution_count": 7,
   "id": "848f9a52",
   "metadata": {},
   "outputs": [],
   "source": [
    "# Convert lists of Image and Label to numpy arrays\n",
    "images = np.array(images)\n",
    "labels = np.array(labels)"
   ]
  },
  {
   "cell_type": "code",
   "execution_count": 8,
   "id": "9737c1a0",
   "metadata": {},
   "outputs": [],
   "source": [
    "# Normalize the images\n",
    "images = images / 255.0"
   ]
  },
  {
   "cell_type": "markdown",
   "id": "fa03672e",
   "metadata": {},
   "source": [
    "### Split the Dataset"
   ]
  },
  {
   "cell_type": "code",
   "execution_count": 9,
   "id": "c1774444",
   "metadata": {},
   "outputs": [],
   "source": [
    "# Split the dataset into training and validation sets\n",
    "X_train, X_val, y_train, y_val = train_test_split(images, labels, test_size=0.2, random_state=42)"
   ]
  },
  {
   "cell_type": "markdown",
   "id": "371c045b",
   "metadata": {},
   "source": [
    "###  Data Augmentation\n",
    "To improve model generalization "
   ]
  },
  {
   "cell_type": "code",
   "execution_count": 10,
   "id": "e5a7c44f",
   "metadata": {},
   "outputs": [],
   "source": [
    "# Create an ImageDataGenerator for data augmentation\n",
    "train_datagen = ImageDataGenerator(\n",
    "    rotation_range=20,\n",
    "    width_shift_range=0.2,\n",
    "    height_shift_range=0.2,\n",
    "    shear_range=0.2,\n",
    "    zoom_range=0.2,\n",
    "    horizontal_flip=True,\n",
    "    fill_mode='nearest'\n",
    ")\n",
    "\n",
    "# Fit the generator to the training data\n",
    "train_datagen.fit(X_train)"
   ]
  },
  {
   "cell_type": "markdown",
   "id": "0f65edaf",
   "metadata": {},
   "source": [
    "### Lets now Build the Model Usig the CNN"
   ]
  },
  {
   "cell_type": "code",
   "execution_count": 11,
   "id": "227ae32c",
   "metadata": {},
   "outputs": [],
   "source": [
    "# Build the CNN model\n",
    "model = models.Sequential([\n",
    "    layers.Conv2D(32, (3, 3), activation='relu', input_shape=(128, 128, 3)),\n",
    "    layers.MaxPooling2D(pool_size=(2, 2)),\n",
    "    layers.Conv2D(64, (3, 3), activation='relu'),\n",
    "    layers.MaxPooling2D(pool_size=(2, 2)),\n",
    "    layers.Conv2D(128, (3, 3), activation='relu'),\n",
    "    layers.MaxPooling2D(pool_size=(2, 2)),\n",
    "    layers.Flatten(),\n",
    "    layers.Dense(128, activation='relu'),\n",
    "    layers.Dense(len(categories), activation='softmax')  # Multi-class classification\n",
    "])\n",
    "\n",
    "# Compile the model\n",
    "model.compile(optimizer='adam', loss='sparse_categorical_crossentropy', metrics=['accuracy'])\n"
   ]
  },
  {
   "cell_type": "markdown",
   "id": "645a7703",
   "metadata": {},
   "source": [
    "### Lets Train the model "
   ]
  },
  {
   "cell_type": "code",
   "execution_count": 12,
   "id": "e2275cb2",
   "metadata": {},
   "outputs": [
    {
     "name": "stdout",
     "output_type": "stream",
     "text": [
      "Epoch 1/100\n"
     ]
    },
    {
     "name": "stderr",
     "output_type": "stream",
     "text": [
      "2024-08-20 17:44:49.363337: W external/local_tsl/tsl/framework/cpu_allocator_impl.cc:83] Allocation of 65028096 exceeds 10% of free system memory.\n",
      "2024-08-20 17:44:49.549125: W external/local_tsl/tsl/framework/cpu_allocator_impl.cc:83] Allocation of 30482432 exceeds 10% of free system memory.\n",
      "2024-08-20 17:44:50.243409: W external/local_tsl/tsl/framework/cpu_allocator_impl.cc:83] Allocation of 30482432 exceeds 10% of free system memory.\n",
      "2024-08-20 17:44:50.627544: W external/local_tsl/tsl/framework/cpu_allocator_impl.cc:83] Allocation of 32514048 exceeds 10% of free system memory.\n",
      "2024-08-20 17:44:50.627715: W external/local_tsl/tsl/framework/cpu_allocator_impl.cc:83] Allocation of 65028096 exceeds 10% of free system memory.\n"
     ]
    },
    {
     "name": "stdout",
     "output_type": "stream",
     "text": [
      "26/26 [==============================] - 34s 1s/step - loss: 1.5976 - accuracy: 0.2882 - val_loss: 1.4246 - val_accuracy: 0.3416\n",
      "Epoch 2/100\n",
      "26/26 [==============================] - 31s 1s/step - loss: 1.3575 - accuracy: 0.4224 - val_loss: 1.2623 - val_accuracy: 0.4059\n",
      "Epoch 3/100\n",
      "26/26 [==============================] - 31s 1s/step - loss: 1.2745 - accuracy: 0.4547 - val_loss: 1.1141 - val_accuracy: 0.5495\n",
      "Epoch 4/100\n",
      "26/26 [==============================] - 31s 1s/step - loss: 1.1838 - accuracy: 0.4944 - val_loss: 1.0318 - val_accuracy: 0.5792\n",
      "Epoch 5/100\n",
      "26/26 [==============================] - 32s 1s/step - loss: 1.1497 - accuracy: 0.5068 - val_loss: 1.1571 - val_accuracy: 0.5446\n",
      "Epoch 6/100\n",
      "26/26 [==============================] - 31s 1s/step - loss: 1.1259 - accuracy: 0.5155 - val_loss: 0.9943 - val_accuracy: 0.6188\n",
      "Epoch 7/100\n",
      "26/26 [==============================] - 32s 1s/step - loss: 1.0715 - accuracy: 0.5578 - val_loss: 1.0218 - val_accuracy: 0.5990\n",
      "Epoch 8/100\n",
      "26/26 [==============================] - 31s 1s/step - loss: 1.0344 - accuracy: 0.5950 - val_loss: 1.2071 - val_accuracy: 0.5693\n",
      "Epoch 9/100\n",
      "26/26 [==============================] - 33s 1s/step - loss: 0.9795 - accuracy: 0.6025 - val_loss: 0.9072 - val_accuracy: 0.6040\n",
      "Epoch 10/100\n",
      "26/26 [==============================] - 31s 1s/step - loss: 0.9391 - accuracy: 0.6298 - val_loss: 0.9300 - val_accuracy: 0.6188\n",
      "Epoch 11/100\n",
      "26/26 [==============================] - 31s 1s/step - loss: 0.9289 - accuracy: 0.6398 - val_loss: 0.9967 - val_accuracy: 0.5891\n",
      "Epoch 12/100\n",
      "26/26 [==============================] - 31s 1s/step - loss: 0.8844 - accuracy: 0.6460 - val_loss: 0.8794 - val_accuracy: 0.6584\n",
      "Epoch 13/100\n",
      "26/26 [==============================] - 34s 1s/step - loss: 0.8559 - accuracy: 0.6311 - val_loss: 1.0546 - val_accuracy: 0.5693\n",
      "Epoch 14/100\n",
      "26/26 [==============================] - 32s 1s/step - loss: 0.8662 - accuracy: 0.6621 - val_loss: 0.8059 - val_accuracy: 0.7079\n",
      "Epoch 15/100\n",
      "26/26 [==============================] - 32s 1s/step - loss: 0.8193 - accuracy: 0.6696 - val_loss: 0.9405 - val_accuracy: 0.6386\n",
      "Epoch 16/100\n",
      "26/26 [==============================] - 34s 1s/step - loss: 0.8335 - accuracy: 0.6795 - val_loss: 0.8145 - val_accuracy: 0.6980\n",
      "Epoch 17/100\n",
      "26/26 [==============================] - 32s 1s/step - loss: 0.7609 - accuracy: 0.6919 - val_loss: 0.8263 - val_accuracy: 0.6535\n",
      "Epoch 18/100\n",
      "26/26 [==============================] - 30s 1s/step - loss: 0.7501 - accuracy: 0.7093 - val_loss: 0.8824 - val_accuracy: 0.6485\n",
      "Epoch 19/100\n",
      "26/26 [==============================] - 33s 1s/step - loss: 0.7417 - accuracy: 0.7267 - val_loss: 0.8137 - val_accuracy: 0.7079\n",
      "Epoch 20/100\n",
      "26/26 [==============================] - 32s 1s/step - loss: 0.7193 - accuracy: 0.7143 - val_loss: 1.1059 - val_accuracy: 0.6337\n",
      "Epoch 21/100\n",
      "26/26 [==============================] - 32s 1s/step - loss: 0.6870 - accuracy: 0.7366 - val_loss: 0.7893 - val_accuracy: 0.7079\n",
      "Epoch 22/100\n",
      "26/26 [==============================] - 31s 1s/step - loss: 0.6736 - accuracy: 0.7627 - val_loss: 0.9589 - val_accuracy: 0.6733\n",
      "Epoch 23/100\n",
      "26/26 [==============================] - 31s 1s/step - loss: 0.7021 - accuracy: 0.7155 - val_loss: 0.7065 - val_accuracy: 0.6782\n",
      "Epoch 24/100\n",
      "26/26 [==============================] - 32s 1s/step - loss: 0.7266 - accuracy: 0.7118 - val_loss: 0.8655 - val_accuracy: 0.6832\n",
      "Epoch 25/100\n",
      "26/26 [==============================] - 35s 1s/step - loss: 0.6744 - accuracy: 0.7528 - val_loss: 0.7779 - val_accuracy: 0.7277\n",
      "Epoch 26/100\n",
      "26/26 [==============================] - 32s 1s/step - loss: 0.6670 - accuracy: 0.7466 - val_loss: 0.7666 - val_accuracy: 0.7129\n",
      "Epoch 27/100\n",
      "26/26 [==============================] - 32s 1s/step - loss: 0.6606 - accuracy: 0.7503 - val_loss: 0.8240 - val_accuracy: 0.6782\n",
      "Epoch 28/100\n",
      "26/26 [==============================] - 32s 1s/step - loss: 0.6493 - accuracy: 0.7516 - val_loss: 1.1320 - val_accuracy: 0.6485\n",
      "Epoch 29/100\n",
      "26/26 [==============================] - 41s 2s/step - loss: 0.6344 - accuracy: 0.7491 - val_loss: 0.8328 - val_accuracy: 0.7079\n",
      "Epoch 30/100\n",
      "26/26 [==============================] - 54s 2s/step - loss: 0.5811 - accuracy: 0.7752 - val_loss: 0.7226 - val_accuracy: 0.7376\n",
      "Epoch 31/100\n",
      "26/26 [==============================] - 42s 2s/step - loss: 0.5796 - accuracy: 0.7627 - val_loss: 0.7188 - val_accuracy: 0.7525\n",
      "Epoch 32/100\n",
      "26/26 [==============================] - 42s 2s/step - loss: 0.5637 - accuracy: 0.7925 - val_loss: 0.7153 - val_accuracy: 0.7475\n",
      "Epoch 33/100\n",
      "26/26 [==============================] - 40s 2s/step - loss: 0.5953 - accuracy: 0.7789 - val_loss: 0.6873 - val_accuracy: 0.7574\n",
      "Epoch 34/100\n",
      "26/26 [==============================] - 38s 1s/step - loss: 0.5996 - accuracy: 0.7640 - val_loss: 0.7562 - val_accuracy: 0.7079\n",
      "Epoch 35/100\n",
      "26/26 [==============================] - 41s 2s/step - loss: 0.5555 - accuracy: 0.7839 - val_loss: 0.9090 - val_accuracy: 0.6881\n",
      "Epoch 36/100\n",
      "26/26 [==============================] - 34s 1s/step - loss: 0.5351 - accuracy: 0.7975 - val_loss: 0.7827 - val_accuracy: 0.7178\n",
      "Epoch 37/100\n",
      "26/26 [==============================] - 41s 2s/step - loss: 0.4676 - accuracy: 0.8149 - val_loss: 1.0067 - val_accuracy: 0.6931\n",
      "Epoch 38/100\n",
      "26/26 [==============================] - 38s 1s/step - loss: 0.4909 - accuracy: 0.8037 - val_loss: 0.6365 - val_accuracy: 0.7871\n",
      "Epoch 39/100\n",
      "26/26 [==============================] - 39s 2s/step - loss: 0.5295 - accuracy: 0.7975 - val_loss: 0.6045 - val_accuracy: 0.7574\n",
      "Epoch 40/100\n",
      "26/26 [==============================] - 34s 1s/step - loss: 0.4786 - accuracy: 0.8149 - val_loss: 0.6443 - val_accuracy: 0.7673\n",
      "Epoch 41/100\n",
      "26/26 [==============================] - 32s 1s/step - loss: 0.5152 - accuracy: 0.8062 - val_loss: 0.6334 - val_accuracy: 0.7426\n",
      "Epoch 42/100\n",
      "26/26 [==============================] - 36s 1s/step - loss: 0.4847 - accuracy: 0.8050 - val_loss: 0.9493 - val_accuracy: 0.6832\n",
      "Epoch 43/100\n",
      "26/26 [==============================] - 35s 1s/step - loss: 0.4773 - accuracy: 0.8261 - val_loss: 0.6992 - val_accuracy: 0.7178\n",
      "Epoch 44/100\n",
      "26/26 [==============================] - 36s 1s/step - loss: 0.4576 - accuracy: 0.8348 - val_loss: 0.9133 - val_accuracy: 0.7079\n",
      "Epoch 45/100\n",
      "26/26 [==============================] - 38s 1s/step - loss: 0.4916 - accuracy: 0.8174 - val_loss: 0.7178 - val_accuracy: 0.7723\n",
      "Epoch 46/100\n",
      "26/26 [==============================] - 35s 1s/step - loss: 0.4515 - accuracy: 0.8248 - val_loss: 0.8214 - val_accuracy: 0.7574\n",
      "Epoch 47/100\n",
      "26/26 [==============================] - 35s 1s/step - loss: 0.4497 - accuracy: 0.8273 - val_loss: 0.7174 - val_accuracy: 0.7772\n",
      "Epoch 48/100\n",
      "26/26 [==============================] - 37s 1s/step - loss: 0.4345 - accuracy: 0.8298 - val_loss: 0.8092 - val_accuracy: 0.7376\n",
      "Epoch 49/100\n",
      "26/26 [==============================] - 36s 1s/step - loss: 0.3978 - accuracy: 0.8534 - val_loss: 0.8216 - val_accuracy: 0.7228\n",
      "Epoch 50/100\n",
      "26/26 [==============================] - 36s 1s/step - loss: 0.3842 - accuracy: 0.8534 - val_loss: 0.7854 - val_accuracy: 0.7723\n",
      "Epoch 51/100\n",
      "26/26 [==============================] - 34s 1s/step - loss: 0.4047 - accuracy: 0.8422 - val_loss: 0.6173 - val_accuracy: 0.7673\n",
      "Epoch 52/100\n",
      "26/26 [==============================] - 34s 1s/step - loss: 0.5486 - accuracy: 0.7913 - val_loss: 0.9466 - val_accuracy: 0.7079\n",
      "Epoch 53/100\n",
      "26/26 [==============================] - 33s 1s/step - loss: 0.5360 - accuracy: 0.7950 - val_loss: 0.5580 - val_accuracy: 0.7772\n",
      "Epoch 54/100\n",
      "26/26 [==============================] - 39s 2s/step - loss: 0.3882 - accuracy: 0.8609 - val_loss: 0.6136 - val_accuracy: 0.7673\n",
      "Epoch 55/100\n",
      "26/26 [==============================] - 34s 1s/step - loss: 0.3709 - accuracy: 0.8609 - val_loss: 0.7633 - val_accuracy: 0.7277\n",
      "Epoch 56/100\n",
      "26/26 [==============================] - 35s 1s/step - loss: 0.3250 - accuracy: 0.8932 - val_loss: 0.8196 - val_accuracy: 0.7624\n",
      "Epoch 57/100\n",
      "26/26 [==============================] - 33s 1s/step - loss: 0.3887 - accuracy: 0.8571 - val_loss: 0.8640 - val_accuracy: 0.7426\n",
      "Epoch 58/100\n",
      "26/26 [==============================] - 36s 1s/step - loss: 0.3965 - accuracy: 0.8472 - val_loss: 0.6298 - val_accuracy: 0.7772\n"
     ]
    },
    {
     "name": "stdout",
     "output_type": "stream",
     "text": [
      "Epoch 59/100\n",
      "26/26 [==============================] - 36s 1s/step - loss: 0.4240 - accuracy: 0.8460 - val_loss: 0.7878 - val_accuracy: 0.7673\n",
      "Epoch 60/100\n",
      "26/26 [==============================] - 35s 1s/step - loss: 0.3381 - accuracy: 0.8758 - val_loss: 0.6740 - val_accuracy: 0.7475\n",
      "Epoch 61/100\n",
      "26/26 [==============================] - 36s 1s/step - loss: 0.3140 - accuracy: 0.8894 - val_loss: 0.6575 - val_accuracy: 0.7772\n",
      "Epoch 62/100\n",
      "26/26 [==============================] - 32s 1s/step - loss: 0.3638 - accuracy: 0.8571 - val_loss: 0.6669 - val_accuracy: 0.7525\n",
      "Epoch 63/100\n",
      "26/26 [==============================] - 33s 1s/step - loss: 0.3514 - accuracy: 0.8807 - val_loss: 0.5921 - val_accuracy: 0.7673\n",
      "Epoch 64/100\n",
      "26/26 [==============================] - 34s 1s/step - loss: 0.2833 - accuracy: 0.9019 - val_loss: 0.7703 - val_accuracy: 0.7376\n",
      "Epoch 65/100\n",
      "26/26 [==============================] - 33s 1s/step - loss: 0.2837 - accuracy: 0.8894 - val_loss: 0.8333 - val_accuracy: 0.7327\n",
      "Epoch 66/100\n",
      "26/26 [==============================] - 31s 1s/step - loss: 0.2800 - accuracy: 0.8981 - val_loss: 0.6300 - val_accuracy: 0.7723\n",
      "Epoch 67/100\n",
      "26/26 [==============================] - 33s 1s/step - loss: 0.3057 - accuracy: 0.8807 - val_loss: 0.6229 - val_accuracy: 0.7921\n",
      "Epoch 68/100\n",
      "26/26 [==============================] - 34s 1s/step - loss: 0.2825 - accuracy: 0.9019 - val_loss: 0.8569 - val_accuracy: 0.7178\n",
      "Epoch 69/100\n",
      "26/26 [==============================] - 33s 1s/step - loss: 0.2800 - accuracy: 0.8882 - val_loss: 0.7984 - val_accuracy: 0.7277\n",
      "Epoch 70/100\n",
      "26/26 [==============================] - 34s 1s/step - loss: 0.3263 - accuracy: 0.8870 - val_loss: 1.1312 - val_accuracy: 0.6238\n",
      "Epoch 71/100\n",
      "26/26 [==============================] - 33s 1s/step - loss: 0.3488 - accuracy: 0.8584 - val_loss: 0.7447 - val_accuracy: 0.7772\n",
      "Epoch 72/100\n",
      "26/26 [==============================] - 33s 1s/step - loss: 0.2569 - accuracy: 0.9106 - val_loss: 0.6493 - val_accuracy: 0.7723\n",
      "Epoch 73/100\n",
      "26/26 [==============================] - 36s 1s/step - loss: 0.2709 - accuracy: 0.8994 - val_loss: 0.6222 - val_accuracy: 0.7673\n",
      "Epoch 74/100\n",
      "26/26 [==============================] - 34s 1s/step - loss: 0.2407 - accuracy: 0.9180 - val_loss: 0.6885 - val_accuracy: 0.7871\n",
      "Epoch 75/100\n",
      "26/26 [==============================] - 37s 1s/step - loss: 0.2229 - accuracy: 0.9168 - val_loss: 0.5324 - val_accuracy: 0.8366\n",
      "Epoch 76/100\n",
      "26/26 [==============================] - 33s 1s/step - loss: 0.2639 - accuracy: 0.9043 - val_loss: 0.8222 - val_accuracy: 0.7871\n",
      "Epoch 77/100\n",
      "26/26 [==============================] - 32s 1s/step - loss: 0.3284 - accuracy: 0.8708 - val_loss: 0.8178 - val_accuracy: 0.7525\n",
      "Epoch 78/100\n",
      "26/26 [==============================] - 33s 1s/step - loss: 0.3054 - accuracy: 0.8994 - val_loss: 0.6566 - val_accuracy: 0.8020\n",
      "Epoch 79/100\n",
      "26/26 [==============================] - 33s 1s/step - loss: 0.2825 - accuracy: 0.9093 - val_loss: 0.5904 - val_accuracy: 0.8366\n",
      "Epoch 80/100\n",
      "26/26 [==============================] - 33s 1s/step - loss: 0.2210 - accuracy: 0.9230 - val_loss: 0.6101 - val_accuracy: 0.8218\n",
      "Epoch 81/100\n",
      "26/26 [==============================] - 32s 1s/step - loss: 0.1950 - accuracy: 0.9255 - val_loss: 0.5589 - val_accuracy: 0.8267\n",
      "Epoch 82/100\n",
      "26/26 [==============================] - 35s 1s/step - loss: 0.2510 - accuracy: 0.9118 - val_loss: 0.6494 - val_accuracy: 0.8119\n",
      "Epoch 83/100\n",
      "26/26 [==============================] - 32s 1s/step - loss: 0.2861 - accuracy: 0.8919 - val_loss: 0.6656 - val_accuracy: 0.8168\n",
      "Epoch 84/100\n",
      "26/26 [==============================] - 32s 1s/step - loss: 0.1989 - accuracy: 0.9342 - val_loss: 0.6124 - val_accuracy: 0.8218\n",
      "Epoch 85/100\n",
      "26/26 [==============================] - 34s 1s/step - loss: 0.2229 - accuracy: 0.9130 - val_loss: 0.8474 - val_accuracy: 0.7921\n",
      "Epoch 86/100\n",
      "26/26 [==============================] - 33s 1s/step - loss: 0.3012 - accuracy: 0.8894 - val_loss: 0.5474 - val_accuracy: 0.8119\n",
      "Epoch 87/100\n",
      "26/26 [==============================] - 34s 1s/step - loss: 0.2380 - accuracy: 0.9205 - val_loss: 0.7387 - val_accuracy: 0.7921\n",
      "Epoch 88/100\n",
      "26/26 [==============================] - 34s 1s/step - loss: 0.2366 - accuracy: 0.9056 - val_loss: 0.7885 - val_accuracy: 0.8020\n",
      "Epoch 89/100\n",
      "26/26 [==============================] - 36s 1s/step - loss: 0.2102 - accuracy: 0.9205 - val_loss: 0.5621 - val_accuracy: 0.8416\n",
      "Epoch 90/100\n",
      "26/26 [==============================] - 35s 1s/step - loss: 0.1671 - accuracy: 0.9478 - val_loss: 0.5888 - val_accuracy: 0.8515\n",
      "Epoch 91/100\n",
      "26/26 [==============================] - 33s 1s/step - loss: 0.2572 - accuracy: 0.9155 - val_loss: 0.7281 - val_accuracy: 0.7871\n",
      "Epoch 92/100\n",
      "26/26 [==============================] - 33s 1s/step - loss: 0.2503 - accuracy: 0.9230 - val_loss: 0.7853 - val_accuracy: 0.7871\n",
      "Epoch 93/100\n",
      "26/26 [==============================] - 35s 1s/step - loss: 0.1880 - accuracy: 0.9329 - val_loss: 0.8222 - val_accuracy: 0.7772\n",
      "Epoch 94/100\n",
      "26/26 [==============================] - 32s 1s/step - loss: 0.1838 - accuracy: 0.9342 - val_loss: 0.6991 - val_accuracy: 0.8020\n",
      "Epoch 95/100\n",
      "26/26 [==============================] - 31s 1s/step - loss: 0.2892 - accuracy: 0.9093 - val_loss: 0.6141 - val_accuracy: 0.8069\n",
      "Epoch 96/100\n",
      "26/26 [==============================] - 32s 1s/step - loss: 0.1537 - accuracy: 0.9354 - val_loss: 0.6028 - val_accuracy: 0.8416\n",
      "Epoch 97/100\n",
      "26/26 [==============================] - 33s 1s/step - loss: 0.1481 - accuracy: 0.9478 - val_loss: 0.5475 - val_accuracy: 0.8515\n",
      "Epoch 98/100\n",
      "26/26 [==============================] - 34s 1s/step - loss: 0.1693 - accuracy: 0.9391 - val_loss: 0.6467 - val_accuracy: 0.8069\n",
      "Epoch 99/100\n",
      "26/26 [==============================] - 32s 1s/step - loss: 0.1639 - accuracy: 0.9379 - val_loss: 0.7452 - val_accuracy: 0.8069\n",
      "Epoch 100/100\n",
      "26/26 [==============================] - 34s 1s/step - loss: 0.1897 - accuracy: 0.9267 - val_loss: 0.6288 - val_accuracy: 0.8515\n"
     ]
    }
   ],
   "source": [
    "# Train the model\n",
    "history = model.fit(\n",
    "    train_datagen.flow(X_train, y_train, batch_size=32),\n",
    "    validation_data=(X_val, y_val),\n",
    "    epochs=100\n",
    ")"
   ]
  },
  {
   "cell_type": "markdown",
   "id": "3ed95642",
   "metadata": {},
   "source": [
    "### Evaluate the Model\n",
    "Evaluate the model's performance:\n"
   ]
  },
  {
   "cell_type": "code",
   "execution_count": 13,
   "id": "38966d58",
   "metadata": {},
   "outputs": [
    {
     "name": "stdout",
     "output_type": "stream",
     "text": [
      "7/7 [==============================] - 2s 279ms/step - loss: 0.6288 - accuracy: 0.8515\n",
      "Validation Accuracy: 85.15%\n"
     ]
    }
   ],
   "source": [
    "# Evaluate the model\n",
    "loss, accuracy = model.evaluate(X_val, y_val)\n",
    "print(f\"Validation Accuracy: {accuracy * 100:.2f}%\")"
   ]
  },
  {
   "cell_type": "markdown",
   "id": "13714dd7",
   "metadata": {},
   "source": [
    "### Visualize Training History\n",
    "Visualize the training and validation accuracy and loss over epochs"
   ]
  },
  {
   "cell_type": "code",
   "execution_count": 14,
   "id": "e5916359",
   "metadata": {},
   "outputs": [
    {
     "data": {
      "image/png": "[encoded data removed]",
      "text/plain": [
       "<Figure size 1200x400 with 2 Axes>"
      ]
     },
     "metadata": {},
     "output_type": "display_data"
    }
   ],
   "source": [
    "# Plot training & validation accuracy values\n",
    "plt.figure(figsize=(12, 4))\n",
    "plt.subplot(1, 2, 1)\n",
    "plt.plot(history.history['accuracy'], label='Train Accuracy')\n",
    "plt.plot(history.history['val_accuracy'], label='Validation Accuracy')\n",
    "plt.title('Model Accuracy')\n",
    "plt.ylabel('Accuracy')\n",
    "plt.xlabel('Epoch')\n",
    "plt.legend()\n",
    "\n",
    "# Plot training & validation loss values\n",
    "plt.subplot(1, 2, 2)\n",
    "plt.plot(history.history['loss'], label='Train Loss')\n",
    "plt.plot(history.history['val_loss'], label='Validation Loss')\n",
    "plt.title('Model Loss')\n",
    "plt.ylabel('Loss')\n",
    "plt.xlabel('Epoch')\n",
    "plt.legend()\n",
    "\n",
    "plt.show()"
   ]
  },
  {
   "cell_type": "markdown",
   "id": "002ae468",
   "metadata": {},
   "source": [
    "- Training Accuracy (Blue Line): Increases steadily over time, suggesting that the model is learning from the training data and improving its performance.\n",
    "- Validation Accuracy (Orange Line): Also increases initially but fluctuates more than the training accuracy. It reaches a peak around the 70th epoch and then begins to show some instability.\n",
    "\n"
   ]
  },
  {
   "cell_type": "markdown",
   "id": "bbc0f86b",
   "metadata": {},
   "source": [
    "### Make Predictions"
   ]
  },
  {
   "cell_type": "code",
   "execution_count": 21,
   "id": "0909b3e3",
   "metadata": {},
   "outputs": [
    {
     "name": "stdout",
     "output_type": "stream",
     "text": [
      "1/1 [==============================] - 0s 34ms/step\n",
      "The leaf is classified as: Yellow_Mosaic_220\n"
     ]
    }
   ],
   "source": [
    "# Load a new image for prediction\n",
    "def load_and_preprocess_image(img_path):\n",
    "    img = tf.keras.preprocessing.image.load_img(img_path, target_size=(128, 128))\n",
    "    img_array = tf.keras.preprocessing.image.img_to_array(img)\n",
    "    img_array = img_array / 255.0  # Normalize\n",
    "    return np.expand_dims(img_array, axis=0)\n",
    "\n",
    "# Example usage\n",
    "new_image_path = 'yellowdisease.jpg'#'BPLD_Dataset/Leaf_Crinckle_150/143l.jpg'\n",
    "new_image = load_and_preprocess_image(new_image_path)\n",
    "prediction = model.predict(new_image)\n",
    "\n",
    "# Interpret the prediction\n",
    "predicted_class = np.argmax(prediction)\n",
    "predicted_label = categories[predicted_class]\n",
    "print(f\"The leaf is classified as: {predicted_label}\")"
   ]
  }
 ],
 "metadata": {
  "kernelspec": {
   "display_name": "Python 3 (ipykernel)",
   "language": "python",
   "name": "python3"
  },
  "language_info": {
   "codemirror_mode": {
    "name": "ipython",
    "version": 3
   },
   "file_extension": ".py",
   "mimetype": "text/x-python",
   "name": "python",
   "nbconvert_exporter": "python",
   "pygments_lexer": "ipython3",
   "version": "3.11.5"
  }
 },
 "nbformat": 4,
 "nbformat_minor": 5
}
